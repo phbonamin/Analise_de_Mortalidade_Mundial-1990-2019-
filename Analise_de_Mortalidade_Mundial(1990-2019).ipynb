{
 "cells": [
  {
   "cell_type": "markdown",
   "id": "d9dd745c",
   "metadata": {},
   "source": [
    "#Introdução\n",
    "\n",
    "Está análise tem como objetivo analise de mortalidade de alguns paises entre , para comparações a nível mundial. Será comparado os países dos BRICS inicialmente, e conforme o país analise, nos aprofundaremos em alguns detalhes.\n",
    "\n",
    "Para está analise foi utilizada o dataset do Kaggle, disponível em: https://www.kaggle.com/datasets/madhurpant/world-deaths-and-causes-1990-2019\n",
    "\n",
    "Utilizaremos:\n",
    "-Dataset referente a mortalidade mundial entre 1990 e  2019\n"
   ]
  },
  {
   "cell_type": "code",
   "execution_count": null,
   "id": "79d97453",
   "metadata": {},
   "outputs": [],
   "source": []
  }
 ],
 "metadata": {
  "kernelspec": {
   "display_name": "Python 3 (ipykernel)",
   "language": "python",
   "name": "python3"
  },
  "language_info": {
   "codemirror_mode": {
    "name": "ipython",
    "version": 3
   },
   "file_extension": ".py",
   "mimetype": "text/x-python",
   "name": "python",
   "nbconvert_exporter": "python",
   "pygments_lexer": "ipython3",
   "version": "3.10.6"
  }
 },
 "nbformat": 4,
 "nbformat_minor": 5
}
